{
 "cells": [
  {
   "cell_type": "code",
   "execution_count": 1,
   "metadata": {
    "collapsed": false,
    "deletable": true,
    "editable": true
   },
   "outputs": [
    {
     "name": "stdout",
     "output_type": "stream",
     "text": [
      "Using matplotlib backend: TkAgg\n",
      "Populating the interactive namespace from numpy and matplotlib\n"
     ]
    }
   ],
   "source": [
    "%pylab --no-import-all\n",
    "%matplotlib inline\n",
    "import PyDSTool as pdt"
   ]
  },
  {
   "cell_type": "code",
   "execution_count": 67,
   "metadata": {
    "collapsed": false,
    "deletable": true,
    "editable": true
   },
   "outputs": [],
   "source": [
    "ab = np.loadtxt('birdsynth/test/ba_example_ab.dat')\n",
    "#ab = np.zeros((40000, 2))\n",
    "ab[:, 0] += np.random.normal(0, 0.01, len(ab))\n"
   ]
  },
  {
   "cell_type": "code",
   "execution_count": 68,
   "metadata": {
    "collapsed": false,
    "deletable": true,
    "editable": true
   },
   "outputs": [],
   "source": [
    "t_mom = np.linspace(0, len(ab)/44100, len(ab))\n",
    "inputs = pdt.pointset_to_traj(pdt.Pointset(coorddict={'a': ab[:, 1], 'b':ab[:, 0]}, indepvardict={'t': t_mom}))"
   ]
  },
  {
   "cell_type": "markdown",
   "metadata": {},
   "source": [
    "# Jacobian calculation"
   ]
  },
  {
   "cell_type": "code",
   "execution_count": 205,
   "metadata": {
    "collapsed": false
   },
   "outputs": [],
   "source": [
    "x = pdt.Var('x')\n",
    "y = pdt.Var('y')\n",
    "gm = pdt.Par('gm')\n",
    "a = pdt.Par('a')\n",
    "b = pdt.Par('b')\n",
    "t = pdt.Var('t')"
   ]
  },
  {
   "cell_type": "code",
   "execution_count": 206,
   "metadata": {
    "collapsed": false
   },
   "outputs": [
    {
     "name": "stdout",
     "output_type": "stream",
     "text": [
      "[[0,1],[(((-b*gm*gm)-gm*gm*(x*x+x*2*x))-gm*(x*y+x*y)+gm*gm*2*x)-gm*y,(-gm*x*x)-gm*x]]\n"
     ]
    }
   ],
   "source": [
    "xdot = pdt.Fun(y, [y], 'xdot')\n",
    "ydot = pdt.Fun(-a*gm*gm - b*gm*gm*x -gm*gm*x*x*x -gm*x*x*y + gm*gm*x*x - gm*x*y, [x, y], 'ydot')\n",
    "F = pdt.Fun([xdot(y), ydot(x, y)], [x,y], 'F')\n",
    "jac = pdt.Fun(pdt.Diff(F, [x, y]), [t, x, y], 'Jacobian')\n",
    "jac.simplify()\n",
    "print(jac.eval(t=t, x=x, y=y))"
   ]
  },
  {
   "cell_type": "markdown",
   "metadata": {
    "deletable": true,
    "editable": true
   },
   "source": [
    "# Simple model"
   ]
  },
  {
   "cell_type": "code",
   "execution_count": 210,
   "metadata": {
    "collapsed": false,
    "deletable": true,
    "editable": true
   },
   "outputs": [],
   "source": [
    "icdict = {'x': 0, 'y': 0}\n",
    "pardict = {\n",
    "    'gm': 2  # g is γ in Boari 2015\n",
    "}\n",
    "vardict = {\n",
    "    'x': xdot(y),\n",
    "    'y': ydot(x,y),\n",
    "          }\n",
    "\n",
    "args = pdt.args()\n",
    "args.name = 'birdsynth'\n",
    "args.fnspecs = [jac, xdot, ydot]\n",
    "args.ics = icdict\n",
    "args.pars = pardict\n",
    "args.inputs = inputs\n",
    "args.tdata = [0, 1]\n",
    "args.varspecs = vardict\n",
    "\n",
    "ds = pdt.Generator.Vode_ODEsystem(args)"
   ]
  },
  {
   "cell_type": "code",
   "execution_count": 211,
   "metadata": {
    "collapsed": false
   },
   "outputs": [
    {
     "data": {
      "text/plain": [
       "True"
      ]
     },
     "execution_count": 211,
     "metadata": {},
     "output_type": "execute_result"
    }
   ],
   "source": [
    "ds.haveJacobian()"
   ]
  },
  {
   "cell_type": "code",
   "execution_count": 212,
   "metadata": {
    "collapsed": false,
    "deletable": true,
    "editable": true
   },
   "outputs": [],
   "source": [
    "traj = ds.compute('demo')"
   ]
  },
  {
   "cell_type": "code",
   "execution_count": 213,
   "metadata": {
    "collapsed": false,
    "deletable": true,
    "editable": true
   },
   "outputs": [
    {
     "data": {
      "text/plain": [
       "[<matplotlib.lines.Line2D at 0x7efcd56c2be0>]"
      ]
     },
     "execution_count": 213,
     "metadata": {},
     "output_type": "execute_result"
    },
    {
     "name": "stderr",
     "output_type": "stream",
     "text": [
      "Exception ignored in: <bound method Vode_ODEsystem.__del__ of Generator birdsynth>\n",
      "Traceback (most recent call last):\n",
      "  File \"/home/ecoffet/.virtualenvs/birdsongs/lib/python3.5/site-packages/PyDSTool/Generator/Vode_ODEsystem.py\", line 923, in __del__\n",
      "    ODEsystem.__del__(self)\n",
      "  File \"/home/ecoffet/.virtualenvs/birdsongs/lib/python3.5/site-packages/PyDSTool/Generator/ODEsystem.py\", line 525, in __del__\n",
      "    ctsGen.__del__(self)\n",
      "  File \"/home/ecoffet/.virtualenvs/birdsongs/lib/python3.5/site-packages/PyDSTool/Generator/baseclasses.py\", line 1430, in __del__\n",
      "    Generator.__del__(self)\n",
      "  File \"/home/ecoffet/.virtualenvs/birdsongs/lib/python3.5/site-packages/PyDSTool/Generator/baseclasses.py\", line 1381, in __del__\n",
      "    delattr(eval(finfo[0]), fname)\n",
      "SyntaxError: unexpected EOF while parsing (<string>, line 0)\n"
     ]
    },
    {
     "data": {
      "image/png": "[encoded data removed]",
      "text/plain": [
       "<matplotlib.figure.Figure at 0x7efcd5832438>"
      ]
     },
     "metadata": {},
     "output_type": "display_data"
    }
   ],
   "source": [
    "plt.plot(traj.sample(dt=1/(44100*20))['x'])"
   ]
  },
  {
   "cell_type": "code",
   "execution_count": 21,
   "metadata": {
    "collapsed": false,
    "deletable": true,
    "editable": true
   },
   "outputs": [],
   "source": [
    "auxdict = {'Pi':(['t', 'x', 'a_'], 'if(t > 0, a_ * x - r * 1, 0)'),\n",
    "           'Pt':(['t', 'x', 'a_'], '(1 - r) * Pi(t - 0.5 * T, x, a_)')\n",
    "          }"
   ]
  },
  {
   "cell_type": "code",
   "execution_count": 30,
   "metadata": {
    "collapsed": false,
    "deletable": true,
    "editable": true
   },
   "outputs": [],
   "source": [
    "icdict = {'x': 0, 'y': 0, 'o1':0, 'i1':0, 'i3':0}\n",
    "pardict = {'g': 2400,  # g is γ in Boari 2015\n",
    "           'T': 0.2,\n",
    "           'r': 0.1,\n",
    "           'a_p': -540e6,\n",
    "           'b_p': -7800,\n",
    "           'c_p': 1.8e8,\n",
    "           'd_p': 1.2e-2,\n",
    "           'e_p': 7.2e-1,\n",
    "           'f_p': -0.83e-2,\n",
    "           'g_p': -5e2,\n",
    "           'h_p': 1e-4\n",
    "          }\n",
    "vardict = {'x': 'y',\n",
    "           'y': '-a*Pow(g, 2) - b * Pow(g, 2) * x - Pow(g, 2) * Pow(x, 3) - g * Pow(x, 2) * y + Pow(g, 2) * x * x'\n",
    "                  '- g * x * y',\n",
    "          'i1': 'o1',\n",
    "          'o1': 'a_p * i1 + b_p * o1 + c_p * i3 + d_p * Pt(t, x, a) + e_p * Pt(t, x, a)',\n",
    "          'i3': 'f_p * o1 + g_p * i3 + h_p * Pt(t, x, a)'\n",
    "          }\n",
    "\n",
    "args = pdt.args()\n",
    "args.name = 'birdsynth'\n",
    "args.ics = icdict\n",
    "args.pars = pardict\n",
    "args.fnspecs = auxdict\n",
    "args.inputs = inputs\n",
    "args.tdata = [0, len(ab)/44100]\n",
    "args.varspecs = vardict"
   ]
  },
  {
   "cell_type": "code",
   "execution_count": 31,
   "metadata": {
    "collapsed": false,
    "deletable": true,
    "editable": true
   },
   "outputs": [],
   "source": [
    "ds = pdt.Generator.Vode_ODEsystem(args)"
   ]
  },
  {
   "cell_type": "code",
   "execution_count": 32,
   "metadata": {
    "collapsed": false,
    "deletable": true,
    "editable": true
   },
   "outputs": [],
   "source": [
    "traj = ds.compute('demo')"
   ]
  },
  {
   "cell_type": "code",
   "execution_count": 33,
   "metadata": {
    "collapsed": false,
    "deletable": true,
    "editable": true
   },
   "outputs": [],
   "source": [
    "pts = traj.sample(dt=1/(44100))"
   ]
  },
  {
   "cell_type": "code",
   "execution_count": 34,
   "metadata": {
    "collapsed": false,
    "deletable": true,
    "editable": true
   },
   "outputs": [
    {
     "data": {
      "text/plain": [
       "[<matplotlib.lines.Line2D at 0x7efcd5828f28>]"
      ]
     },
     "execution_count": 34,
     "metadata": {},
     "output_type": "execute_result"
    },
    {
     "data": {
      "image/png": "[encoded data removed]",
      "text/plain": [
       "<matplotlib.figure.Figure at 0x7efce86d3ac8>"
      ]
     },
     "metadata": {},
     "output_type": "display_data"
    }
   ],
   "source": [
    "plt.plot(pts['t'], pts['x'])"
   ]
  },
  {
   "cell_type": "code",
   "execution_count": null,
   "metadata": {
    "collapsed": true,
    "deletable": true,
    "editable": true
   },
   "outputs": [],
   "source": [
    "x = ds.variables['x']"
   ]
  },
  {
   "cell_type": "code",
   "execution_count": null,
   "metadata": {
    "collapsed": false,
    "deletable": true,
    "editable": true
   },
   "outputs": [],
   "source": [
    "y_0 = pdt.Var('-a*Pow(g, 2) - b * Pow(g, 2) * x - Pow(g, 2) * Pow(x, 3) - g * Pow(x, 2) * y + Pow(g, 2) * x * x'\n",
    "                  '- g * x * y', 'y_0')"
   ]
  },
  {
   "cell_type": "code",
   "execution_count": null,
   "metadata": {
    "collapsed": false,
    "deletable": true,
    "editable": true
   },
   "outputs": [],
   "source": []
  },
  {
   "cell_type": "code",
   "execution_count": null,
   "metadata": {
    "collapsed": false,
    "deletable": true,
    "editable": true
   },
   "outputs": [],
   "source": [
    "Pi(2)"
   ]
  },
  {
   "cell_type": "code",
   "execution_count": null,
   "metadata": {
    "collapsed": true,
    "deletable": true,
    "editable": true
   },
   "outputs": [],
   "source": []
  }
 ],
 "metadata": {
  "kernelspec": {
   "display_name": "Python 3",
   "language": "python",
   "name": "python3"
  },
  "language_info": {
   "codemirror_mode": {
    "name": "ipython",
    "version": 3
   },
   "file_extension": ".py",
   "mimetype": "text/x-python",
   "name": "python",
   "nbconvert_exporter": "python",
   "pygments_lexer": "ipython3",
   "version": "3.5.2+"
  }
 },
 "nbformat": 4,
 "nbformat_minor": 2
}
